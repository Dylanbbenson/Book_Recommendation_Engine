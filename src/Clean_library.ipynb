{
 "cells": [
  {
   "cell_type": "code",
   "execution_count": 1,
   "id": "c9584f2a-f604-4f4a-9787-0d62b65c6bc0",
   "metadata": {
    "tags": []
   },
   "outputs": [],
   "source": [
    "import pandas as pd\n",
    "import requests\n",
    "from datetime import date, datetime\n",
    "import numpy as np\n",
    "current_date = date.today().strftime('%Y-%m-%d')\n",
    "current_year = date.today().year"
   ]
  },
  {
   "cell_type": "code",
   "execution_count": 3,
   "id": "fa3b72f8-0fca-4e26-bd2f-e0973096aae8",
   "metadata": {
    "tags": []
   },
   "outputs": [],
   "source": [
    "df = pd.read_csv('./data/goodreads_library_export.csv')"
   ]
  },
  {
   "cell_type": "code",
   "execution_count": 4,
   "id": "8ff46270-c227-4ff7-9d49-97c71442904b",
   "metadata": {
    "tags": []
   },
   "outputs": [],
   "source": [
    "books = df[['Title', 'ISBN', 'Author', 'Additional Authors', 'My Rating', 'Average Rating', 'Publisher', 'Number of Pages', 'Year Published', 'Original Publication Year', 'Date Read', 'Exclusive Shelf']]\n",
    "books = books.rename(columns={'Additional Authors':'Additional_Authors', 'My Rating': 'My_Rating', 'Average Rating': 'Average_Rating', 'Number of Pages':'Number_of_Pages', 'Year Published':'Year_Published', 'Original Publication Year':'Original_Publication_Year', 'Date Read':'Date_Read', 'Exclusive Shelf':'Exclusive_Shelf'})"
   ]
  },
  {
   "cell_type": "code",
   "execution_count": 8,
   "id": "e9818f9a-a7dd-47cc-91fd-f8f3366fdf41",
   "metadata": {
    "tags": []
   },
   "outputs": [
    {
     "name": "stderr",
     "output_type": "stream",
     "text": [
      "/tmp/ipykernel_460061/2150719736.py:9: FutureWarning: The default value of regex will change from True to False in a future version.\n",
      "  books['ISBN'] = books['ISBN'].str.replace(r\"[\\\"=]\", '')\n"
     ]
    }
   ],
   "source": [
    "books['My_Rating'].replace(0, np.nan, inplace=True)\n",
    "books.dropna(subset=['Title'])\n",
    "books[['Title', 'Series_Info']] = books['Title'].str.extract(r'^(.*?)(\\s\\([^)]*\\))?$')\n",
    "books['Series_Info'] = books['Series_Info'].fillna('Standalone')\n",
    "books = books.drop_duplicates(subset=['Title', 'Author'])\n",
    "books['Date_Read'] = pd.to_datetime(books['Date_Read'])\n",
    "books['is_series'] = books['Title'].str.contains(r'\\(.*#\\d+\\)', regex=True)\n",
    "books['book_age'] = current_year - books['Original_Publication_Year']\n",
    "books['ISBN'] = books['ISBN'].str.replace(r\"[\\\"=]\", '')\n",
    "books['have_read'] = books['Exclusive_Shelf'].replace({\n",
    "    'to-read': False,\n",
    "    'read': True\n",
    "})"
   ]
  },
  {
   "cell_type": "code",
   "execution_count": 6,
   "id": "9209e084-3659-4b11-b7d9-18d089dbf646",
   "metadata": {
    "tags": []
   },
   "outputs": [],
   "source": [
    "def categorize_pages(pages):\n",
    "    if pages < 150: return \"Short\"\n",
    "    elif pages < 300: return \"Medium\"\n",
    "    else: return \"Long\"\n",
    "books['length_category'] = books['Number_of_Pages'].apply(categorize_pages)\n"
   ]
  },
  {
   "cell_type": "code",
   "execution_count": 14,
   "id": "d57b0793-5d97-4d96-a5cf-5996e5106986",
   "metadata": {
    "tags": []
   },
   "outputs": [],
   "source": [
    "def get_genre_from_openlibrary(isbn, author, title):\n",
    "    # Build the query\n",
    "    if isbn:\n",
    "        query = f\"{isbn}\"\n",
    "        response = requests.get(f\"https://openlibrary.org/search.json?isbn={query}\")\n",
    "    else:\n",
    "        query = f\"{title} {author}\"\n",
    "        response = requests.get(f\"https://openlibrary.org/search.json?title={query}\")\n",
    "    \n",
    "    if response.status_code == 200:\n",
    "        data = response.json()\n",
    "        try:\n",
    "            # Get the subjects (genres) from the first result\n",
    "            subjects = data['docs'][0].get('subject', [])\n",
    "            if subjects:\n",
    "                # Return the first subject or join multiple as a string\n",
    "                return \", \".join(subjects[:3])  # Limit to top 3 subjects\n",
    "            else:\n",
    "                return \"Unknown\"\n",
    "        except (KeyError, IndexError):\n",
    "            return \"Unknown\"\n",
    "    return \"Unknown\"\n",
    "\n",
    "# Apply this function to your dataframe\n",
    "books['Genre'] = books.apply(lambda row: get_genre_from_openlibrary(row['ISBN'], row['Title'], row['Author']), axis=1)\n"
   ]
  },
  {
   "cell_type": "code",
   "execution_count": null,
   "id": "23a02a50-c924-43dd-9e72-2d831fb4d6bc",
   "metadata": {
    "tags": []
   },
   "outputs": [],
   "source": []
  }
 ],
 "metadata": {
  "kernelspec": {
   "display_name": "Python 3 (ipykernel)",
   "language": "python",
   "name": "python3"
  },
  "language_info": {
   "codemirror_mode": {
    "name": "ipython",
    "version": 3
   },
   "file_extension": ".py",
   "mimetype": "text/x-python",
   "name": "python",
   "nbconvert_exporter": "python",
   "pygments_lexer": "ipython3",
   "version": "3.10.9"
  }
 },
 "nbformat": 4,
 "nbformat_minor": 5
}
